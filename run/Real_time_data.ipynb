{
 "cells": [
  {
   "cell_type": "code",
   "execution_count": 1,
   "metadata": {},
   "outputs": [],
   "source": [
    "import pandas as pd\n",
    "import time\n",
    "import win32com.client as win32\n",
    "from matplotlib.animation import FuncAnimation\n",
    "import threading\n",
    "import time\n",
    "from threading import Timer\n",
    "import datetime\n",
    "import plotly.plotly as py\n",
    "import plotly.graph_objs as go\n",
    "import pandas as pd\n",
    "import matplotlib.pyplot as plt\n",
    "import datetime\n",
    "%matplotlib  inline\n",
    "def savexl():\n",
    "    excel = win32.gencache.EnsureDispatch('Excel.Application')\n",
    "    \n",
    "    for wb in excel.Workbooks:\n",
    "        wb.Save()\n",
    "        wb.RefreshAll()\n",
    "        "
   ]
  },
  {
   "cell_type": "code",
   "execution_count": 2,
   "metadata": {},
   "outputs": [
    {
     "name": "stdout",
     "output_type": "stream",
     "text": [
      "                        Time    LTP\n",
      "0 2019-02-22 14:42:08.724742  26940\n"
     ]
    }
   ],
   "source": [
    "timestamps=[datetime.datetime.now()]\n",
    "x=pd.read_excel(r\"C:\\Users\\Administrator\\Downloads\\workspace\\training_code\\training_code\\current_ltp.xlsx\",sheet_name=\"Sheet1\")\n",
    "quotes=[x[\"A\"][0]]\n",
    "df=pd.DataFrame({\"Time\":timestamps,\"LTP\":quotes})\n",
    "print (df)"
   ]
  },
  {
   "cell_type": "code",
   "execution_count": 3,
   "metadata": {},
   "outputs": [
    {
     "name": "stdout",
     "output_type": "stream",
     "text": [
      "                        Time      LTP\n",
      "0 2019-02-22 14:42:08.724742  26940.0\n",
      "1 2019-02-22 14:42:09.118800  26928.4\n",
      "                        Time       LTP\n",
      "0 2019-02-22 14:42:08.724742  26940.00\n",
      "1 2019-02-22 14:42:09.118800  26928.40\n",
      "2 2019-02-22 14:42:09.606162  26925.15\n",
      "                        Time       LTP\n",
      "0 2019-02-22 14:42:08.724742  26940.00\n",
      "1 2019-02-22 14:42:09.118800  26928.40\n",
      "2 2019-02-22 14:42:09.606162  26925.15\n",
      "3 2019-02-22 14:42:11.062735  26928.05\n",
      "                        Time       LTP\n",
      "0 2019-02-22 14:42:08.724742  26940.00\n",
      "1 2019-02-22 14:42:09.118800  26928.40\n",
      "2 2019-02-22 14:42:09.606162  26925.15\n",
      "3 2019-02-22 14:42:11.062735  26928.05\n",
      "4 2019-02-22 14:42:11.839870  26925.00\n",
      "                        Time       LTP\n",
      "0 2019-02-22 14:42:08.724742  26940.00\n",
      "1 2019-02-22 14:42:09.118800  26928.40\n",
      "2 2019-02-22 14:42:09.606162  26925.15\n",
      "3 2019-02-22 14:42:11.062735  26928.05\n",
      "4 2019-02-22 14:42:11.839870  26925.00\n",
      "5 2019-02-22 14:42:13.028055  26927.70\n",
      "                        Time       LTP\n",
      "0 2019-02-22 14:42:08.724742  26940.00\n",
      "1 2019-02-22 14:42:09.118800  26928.40\n",
      "2 2019-02-22 14:42:09.606162  26925.15\n",
      "3 2019-02-22 14:42:11.062735  26928.05\n",
      "4 2019-02-22 14:42:11.839870  26925.00\n",
      "5 2019-02-22 14:42:13.028055  26927.70\n",
      "6 2019-02-22 14:42:14.013468  26928.10\n",
      "                        Time       LTP\n",
      "0 2019-02-22 14:42:08.724742  26940.00\n",
      "1 2019-02-22 14:42:09.118800  26928.40\n",
      "2 2019-02-22 14:42:09.606162  26925.15\n",
      "3 2019-02-22 14:42:11.062735  26928.05\n",
      "4 2019-02-22 14:42:11.839870  26925.00\n",
      "5 2019-02-22 14:42:13.028055  26927.70\n",
      "6 2019-02-22 14:42:14.013468  26928.10\n",
      "7 2019-02-22 14:42:14.785508  26928.65\n"
     ]
    },
    {
     "ename": "KeyboardInterrupt",
     "evalue": "",
     "output_type": "error",
     "traceback": [
      "\u001b[1;31m---------------------------------------------------------------------------\u001b[0m",
      "\u001b[1;31mKeyboardInterrupt\u001b[0m                         Traceback (most recent call last)",
      "\u001b[1;32m<ipython-input-3-5931fa5e0de1>\u001b[0m in \u001b[0;36m<module>\u001b[1;34m\u001b[0m\n\u001b[0;32m     11\u001b[0m \u001b[1;33m\u001b[0m\u001b[0m\n\u001b[0;32m     12\u001b[0m \u001b[1;33m\u001b[0m\u001b[0m\n\u001b[1;32m---> 13\u001b[1;33m     \u001b[0msavexl\u001b[0m\u001b[1;33m(\u001b[0m\u001b[1;33m)\u001b[0m\u001b[1;33m\u001b[0m\u001b[1;33m\u001b[0m\u001b[0m\n\u001b[0m\u001b[0;32m     14\u001b[0m \u001b[1;33m\u001b[0m\u001b[0m\n\u001b[0;32m     15\u001b[0m     \u001b[0mtime\u001b[0m\u001b[1;33m.\u001b[0m\u001b[0msleep\u001b[0m\u001b[1;33m(\u001b[0m\u001b[1;36m0.1\u001b[0m\u001b[1;33m)\u001b[0m\u001b[1;33m\u001b[0m\u001b[1;33m\u001b[0m\u001b[0m\n",
      "\u001b[1;32m<ipython-input-1-479f4528f352>\u001b[0m in \u001b[0;36msavexl\u001b[1;34m()\u001b[0m\n\u001b[0;32m     17\u001b[0m \u001b[1;33m\u001b[0m\u001b[0m\n\u001b[0;32m     18\u001b[0m     \u001b[1;32mfor\u001b[0m \u001b[0mwb\u001b[0m \u001b[1;32min\u001b[0m \u001b[0mexcel\u001b[0m\u001b[1;33m.\u001b[0m\u001b[0mWorkbooks\u001b[0m\u001b[1;33m:\u001b[0m\u001b[1;33m\u001b[0m\u001b[1;33m\u001b[0m\u001b[0m\n\u001b[1;32m---> 19\u001b[1;33m         \u001b[0mwb\u001b[0m\u001b[1;33m.\u001b[0m\u001b[0mSave\u001b[0m\u001b[1;33m(\u001b[0m\u001b[1;33m)\u001b[0m\u001b[1;33m\u001b[0m\u001b[1;33m\u001b[0m\u001b[0m\n\u001b[0m\u001b[0;32m     20\u001b[0m         \u001b[0mwb\u001b[0m\u001b[1;33m.\u001b[0m\u001b[0mRefreshAll\u001b[0m\u001b[1;33m(\u001b[0m\u001b[1;33m)\u001b[0m\u001b[1;33m\u001b[0m\u001b[1;33m\u001b[0m\u001b[0m\n\u001b[0;32m     21\u001b[0m \u001b[1;33m\u001b[0m\u001b[0m\n",
      "\u001b[1;32mC:\\Users\\ADMINI~1\\AppData\\Local\\Temp\\gen_py\\3.7\\00020813-0000-0000-C000-000000000046x0x1x6\\_Workbook.py\u001b[0m in \u001b[0;36mSave\u001b[1;34m(self)\u001b[0m\n\u001b[0;32m    243\u001b[0m \u001b[1;33m\u001b[0m\u001b[0m\n\u001b[0;32m    244\u001b[0m         \u001b[1;32mdef\u001b[0m \u001b[0mSave\u001b[0m\u001b[1;33m(\u001b[0m\u001b[0mself\u001b[0m\u001b[1;33m)\u001b[0m\u001b[1;33m:\u001b[0m\u001b[1;33m\u001b[0m\u001b[1;33m\u001b[0m\u001b[0m\n\u001b[1;32m--> 245\u001b[1;33m                 \u001b[1;32mreturn\u001b[0m \u001b[0mself\u001b[0m\u001b[1;33m.\u001b[0m\u001b[0m_oleobj_\u001b[0m\u001b[1;33m.\u001b[0m\u001b[0mInvokeTypes\u001b[0m\u001b[1;33m(\u001b[0m\u001b[1;36m283\u001b[0m\u001b[1;33m,\u001b[0m \u001b[0mLCID\u001b[0m\u001b[1;33m,\u001b[0m \u001b[1;36m1\u001b[0m\u001b[1;33m,\u001b[0m \u001b[1;33m(\u001b[0m\u001b[1;36m24\u001b[0m\u001b[1;33m,\u001b[0m \u001b[1;36m0\u001b[0m\u001b[1;33m)\u001b[0m\u001b[1;33m,\u001b[0m \u001b[1;33m(\u001b[0m\u001b[1;33m)\u001b[0m\u001b[1;33m,\u001b[0m\u001b[1;33m)\u001b[0m\u001b[1;33m\u001b[0m\u001b[1;33m\u001b[0m\u001b[0m\n\u001b[0m\u001b[0;32m    246\u001b[0m \u001b[1;33m\u001b[0m\u001b[0m\n\u001b[0;32m    247\u001b[0m \tdef SaveAs(self, Filename=defaultNamedNotOptArg, FileFormat=defaultNamedNotOptArg, Password=defaultNamedNotOptArg, WriteResPassword=defaultNamedNotOptArg\n",
      "\u001b[1;31mKeyboardInterrupt\u001b[0m: "
     ]
    }
   ],
   "source": [
    "while(True):\n",
    "    x=pd.read_excel(r\"C:\\Users\\Administrator\\Downloads\\workspace\\training_code\\training_code\\current_ltp.xlsx\",sheet_name=\"Sheet1\")\n",
    "    quote=x[\"A\"][0]\n",
    "    ct=datetime.datetime.now()\n",
    "    \n",
    "    if quote!=quotes[-1]:\n",
    "        quotes.append(quote)\n",
    "        timestamps.append(ct)\n",
    "        df=df.append({\"Time\":ct,\"LTP\":quote},ignore_index=True)  \n",
    "        print(df)\n",
    "\n",
    "        \n",
    "    savexl()\n",
    "    \n",
    "    time.sleep(0.1)\n",
    "    \n",
    "    "
   ]
  },
  {
   "cell_type": "code",
   "execution_count": null,
   "metadata": {},
   "outputs": [],
   "source": [
    "df.index=df[\"Time\"]\n",
    "print(df[\"LTP\"].resample(\"1Min\").ohlc())"
   ]
  },
  {
   "cell_type": "code",
   "execution_count": null,
   "metadata": {},
   "outputs": [],
   "source": [
    "timestamps=[datetime.datetime.now()]\n",
    "x=pd.read_excel(r\"C:\\Users\\Administrator\\Downloads\\workspace\\training_code\\training_code\\current_ltp.xlsx\",sheet_name=\"Sheet1\")\n",
    "quotes=[x[\"A\"][0]]\n",
    "df=pd.DataFrame({\"Time\":timestamps,\"LTP\":quotes})\n",
    "time_sleep=0.1\n",
    "while(True):\n",
    "    #print(start_time)\n",
    "    x=pd.read_excel(r\"C:\\Users\\Administrator\\Downloads\\workspace\\training_code\\training_code\\current_ltp.xlsx\",sheet_name=\"Sheet1\")\n",
    "    quote=x[\"A\"][0]\n",
    "    ct=datetime.datetime.now()\n",
    "    \n",
    "    if quote!=quotes[-1]:\n",
    "        quotes.append(quote)\n",
    "        timestamps.append(ct)\n",
    "        df=df.append({\"Time\":ct,\"LTP\":quote},ignore_index=True)  \n",
    "        #print(len(df))\n",
    "\n",
    "        \n",
    "    savexl()\n",
    "    time.sleep(time_sleep)\n",
    "    \n",
    "    if len(df)%(60/time_sleep)==0:\n",
    "        df.index=df[\"Time\"]            \n",
    "        df_tmp=df[\"LTP\"].resample(\"1Min\").ohlc()\n",
    "        #df_data_singlerow = df_tmp[-1:] #get data for 1 minute.\n",
    "        print(df_tmp)\n",
    "    \n"
   ]
  }
 ],
 "metadata": {
  "kernelspec": {
   "display_name": "Python 3",
   "language": "python",
   "name": "python3"
  },
  "language_info": {
   "codemirror_mode": {
    "name": "ipython",
    "version": 3
   },
   "file_extension": ".py",
   "mimetype": "text/x-python",
   "name": "python",
   "nbconvert_exporter": "python",
   "pygments_lexer": "ipython3",
   "version": "3.6.4"
  }
 },
 "nbformat": 4,
 "nbformat_minor": 2
}
